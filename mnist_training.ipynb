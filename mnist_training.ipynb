{
 "cells": [
  {
   "cell_type": "code",
   "execution_count": 3,
   "id": "843037b2-9d3d-4eb3-a6d2-ad018149bcac",
   "metadata": {
    "execution": {
     "iopub.execute_input": "2022-05-11T13:50:21.866299Z",
     "iopub.status.busy": "2022-05-11T13:50:21.866022Z",
     "iopub.status.idle": "2022-05-11T13:50:23.506237Z",
     "shell.execute_reply": "2022-05-11T13:50:23.505753Z",
     "shell.execute_reply.started": "2022-05-11T13:50:21.866274Z"
    },
    "tags": []
   },
   "outputs": [
    {
     "name": "stdout",
     "output_type": "stream",
     "text": [
      "GPU available: True\n"
     ]
    }
   ],
   "source": [
    "import torch\n",
    "import torchvision\n",
    "import torchvision.transforms as transforms\n",
    "\n",
    "print(f\"GPU available: {torch.cuda.is_available()}\")"
   ]
  },
  {
   "cell_type": "code",
   "execution_count": 4,
   "id": "7adbe890-3cfe-46a6-9289-d0a4f643b089",
   "metadata": {
    "execution": {
     "iopub.execute_input": "2022-05-11T13:50:23.507460Z",
     "iopub.status.busy": "2022-05-11T13:50:23.507251Z",
     "iopub.status.idle": "2022-05-11T13:50:23.515180Z",
     "shell.execute_reply": "2022-05-11T13:50:23.514800Z",
     "shell.execute_reply.started": "2022-05-11T13:50:23.507441Z"
    },
    "tags": []
   },
   "outputs": [
    {
     "data": {
      "text/plain": [
       "device(type='cuda')"
      ]
     },
     "execution_count": 4,
     "metadata": {},
     "output_type": "execute_result"
    }
   ],
   "source": [
    "device = torch.device(\"cuda\") if torch.cuda.is_available() else torch.device(\"cpu\")\n",
    "device"
   ]
  },
  {
   "cell_type": "code",
   "execution_count": 5,
   "id": "5a0858ab-60f0-4680-81c2-4817f49f1876",
   "metadata": {
    "execution": {
     "iopub.execute_input": "2022-05-11T13:50:23.515974Z",
     "iopub.status.busy": "2022-05-11T13:50:23.515801Z",
     "iopub.status.idle": "2022-05-11T13:50:23.609589Z",
     "shell.execute_reply": "2022-05-11T13:50:23.609107Z",
     "shell.execute_reply.started": "2022-05-11T13:50:23.515956Z"
    },
    "tags": []
   },
   "outputs": [],
   "source": [
    "transform = transforms.Compose([transforms.ToTensor(),\n",
    "                               transforms.Normalize((0.5, ), (0.5, ))])"
   ]
  },
  {
   "cell_type": "code",
   "execution_count": 6,
   "id": "295489a9-5da0-4cd1-b784-cec26304e612",
   "metadata": {
    "execution": {
     "iopub.execute_input": "2022-05-11T13:50:24.084637Z",
     "iopub.status.busy": "2022-05-11T13:50:24.084371Z",
     "iopub.status.idle": "2022-05-11T13:50:26.201836Z",
     "shell.execute_reply": "2022-05-11T13:50:26.200802Z",
     "shell.execute_reply.started": "2022-05-11T13:50:24.084616Z"
    },
    "tags": []
   },
   "outputs": [
    {
     "name": "stdout",
     "output_type": "stream",
     "text": [
      "Downloading http://yann.lecun.com/exdb/mnist/train-images-idx3-ubyte.gz\n",
      "Downloading http://yann.lecun.com/exdb/mnist/train-images-idx3-ubyte.gz to mnist/MNIST/raw/train-images-idx3-ubyte.gz\n"
     ]
    },
    {
     "data": {
      "application/vnd.jupyter.widget-view+json": {
       "model_id": "d35354a831d6447bb4ae9e5c43c0a767",
       "version_major": 2,
       "version_minor": 0
      },
      "text/plain": [
       "  0%|          | 0/9912422 [00:00<?, ?it/s]"
      ]
     },
     "metadata": {},
     "output_type": "display_data"
    },
    {
     "name": "stdout",
     "output_type": "stream",
     "text": [
      "Extracting mnist/MNIST/raw/train-images-idx3-ubyte.gz to mnist/MNIST/raw\n",
      "\n",
      "Downloading http://yann.lecun.com/exdb/mnist/train-labels-idx1-ubyte.gz\n",
      "Downloading http://yann.lecun.com/exdb/mnist/train-labels-idx1-ubyte.gz to mnist/MNIST/raw/train-labels-idx1-ubyte.gz\n"
     ]
    },
    {
     "data": {
      "application/vnd.jupyter.widget-view+json": {
       "model_id": "4da3de2f753043fda60bc3ebfa9cf4f5",
       "version_major": 2,
       "version_minor": 0
      },
      "text/plain": [
       "  0%|          | 0/28881 [00:00<?, ?it/s]"
      ]
     },
     "metadata": {},
     "output_type": "display_data"
    },
    {
     "name": "stdout",
     "output_type": "stream",
     "text": [
      "Extracting mnist/MNIST/raw/train-labels-idx1-ubyte.gz to mnist/MNIST/raw\n",
      "\n",
      "Downloading http://yann.lecun.com/exdb/mnist/t10k-images-idx3-ubyte.gz\n",
      "Downloading http://yann.lecun.com/exdb/mnist/t10k-images-idx3-ubyte.gz to mnist/MNIST/raw/t10k-images-idx3-ubyte.gz\n"
     ]
    },
    {
     "data": {
      "application/vnd.jupyter.widget-view+json": {
       "model_id": "c3eaf4a0aa6d41c292362d0f50574d92",
       "version_major": 2,
       "version_minor": 0
      },
      "text/plain": [
       "  0%|          | 0/1648877 [00:00<?, ?it/s]"
      ]
     },
     "metadata": {},
     "output_type": "display_data"
    },
    {
     "name": "stdout",
     "output_type": "stream",
     "text": [
      "Extracting mnist/MNIST/raw/t10k-images-idx3-ubyte.gz to mnist/MNIST/raw\n",
      "\n",
      "Downloading http://yann.lecun.com/exdb/mnist/t10k-labels-idx1-ubyte.gz\n",
      "Downloading http://yann.lecun.com/exdb/mnist/t10k-labels-idx1-ubyte.gz to mnist/MNIST/raw/t10k-labels-idx1-ubyte.gz\n"
     ]
    },
    {
     "data": {
      "application/vnd.jupyter.widget-view+json": {
       "model_id": "b0ef417d784b4a3ab681b278a3669b14",
       "version_major": 2,
       "version_minor": 0
      },
      "text/plain": [
       "  0%|          | 0/4542 [00:00<?, ?it/s]"
      ]
     },
     "metadata": {},
     "output_type": "display_data"
    },
    {
     "name": "stdout",
     "output_type": "stream",
     "text": [
      "Extracting mnist/MNIST/raw/t10k-labels-idx1-ubyte.gz to mnist/MNIST/raw\n",
      "\n"
     ]
    }
   ],
   "source": [
    "train_set = torchvision.datasets.MNIST('mnist',\n",
    "                                       train=True,\n",
    "                                       download=True,\n",
    "                                       transform=transform)\n",
    "\n",
    "test_set = torchvision.datasets.MNIST('mnist',\n",
    "                                      train=False,\n",
    "                                      download=True,\n",
    "                                      transform=transform)"
   ]
  },
  {
   "cell_type": "code",
   "execution_count": 7,
   "id": "0274c446-6ab6-4974-948e-7a91868f2a65",
   "metadata": {
    "execution": {
     "iopub.execute_input": "2022-05-11T13:50:26.203012Z",
     "iopub.status.busy": "2022-05-11T13:50:26.202798Z",
     "iopub.status.idle": "2022-05-11T13:50:26.206009Z",
     "shell.execute_reply": "2022-05-11T13:50:26.205602Z",
     "shell.execute_reply.started": "2022-05-11T13:50:26.202993Z"
    },
    "tags": []
   },
   "outputs": [
    {
     "name": "stdout",
     "output_type": "stream",
     "text": [
      "Train set : torch.Size([60000, 28, 28])\n",
      "Test set : torch.Size([10000, 28, 28])\n"
     ]
    }
   ],
   "source": [
    "print(f\"Train set : {train_set.data.shape}\")\n",
    "print(f\"Test set : {test_set.data.shape}\")"
   ]
  },
  {
   "cell_type": "code",
   "execution_count": 8,
   "id": "6dc9759d-c9f2-44bd-88bf-ea3d0e99306e",
   "metadata": {
    "execution": {
     "iopub.execute_input": "2022-05-11T13:50:26.206790Z",
     "iopub.status.busy": "2022-05-11T13:50:26.206624Z",
     "iopub.status.idle": "2022-05-11T13:50:26.650896Z",
     "shell.execute_reply": "2022-05-11T13:50:26.649927Z",
     "shell.execute_reply.started": "2022-05-11T13:50:26.206774Z"
    },
    "tags": []
   },
   "outputs": [],
   "source": [
    "import numpy as np\n",
    "import matplotlib.pyplot as plt"
   ]
  },
  {
   "cell_type": "code",
   "execution_count": 43,
   "id": "93d9291f-a4ad-4195-9fc4-98c024dd220e",
   "metadata": {
    "execution": {
     "iopub.execute_input": "2022-05-11T14:03:51.130296Z",
     "iopub.status.busy": "2022-05-11T14:03:51.130010Z",
     "iopub.status.idle": "2022-05-11T14:03:51.314428Z",
     "shell.execute_reply": "2022-05-11T14:03:51.313992Z",
     "shell.execute_reply.started": "2022-05-11T14:03:51.130269Z"
    },
    "tags": []
   },
   "outputs": [
    {
     "data": {
      "image/png": "[encoded data removed]",
      "text/plain": [
       "<Figure size 432x432 with 1 Axes>"
      ]
     },
     "metadata": {
      "needs_background": "light"
     },
     "output_type": "display_data"
    }
   ],
   "source": [
    "def imshow(title=\"\", image=None, size=6):\n",
    "    h, w = image.shape[0], image.shape[1]\n",
    "    aspect_ratio = w / h\n",
    "    plt.figure(figsize=(size * aspect_ratio, size))\n",
    "    plt.imshow(image.cpu().numpy(), cmap='gray')\n",
    "    plt.title(title)\n",
    "    plt.show()\n",
    "\n",
    "\n",
    "image = train_set.data[0]\n",
    "imshow(\"MNIST Sample\", image)"
   ]
  },
  {
   "cell_type": "code",
   "execution_count": 10,
   "id": "dbc1932e-23e2-4d32-8925-b3548a91f5b4",
   "metadata": {
    "execution": {
     "iopub.execute_input": "2022-05-11T13:50:26.763474Z",
     "iopub.status.busy": "2022-05-11T13:50:26.763325Z",
     "iopub.status.idle": "2022-05-11T13:50:28.081417Z",
     "shell.execute_reply": "2022-05-11T13:50:28.080973Z",
     "shell.execute_reply.started": "2022-05-11T13:50:26.763457Z"
    },
    "tags": []
   },
   "outputs": [
    {
     "data": {
      "image/png": "[encoded data removed]",
      "text/plain": [
       "<Figure size 432x288 with 50 Axes>"
      ]
     },
     "metadata": {
      "needs_background": "light"
     },
     "output_type": "display_data"
    }
   ],
   "source": [
    "figure = plt.figure()\n",
    "num_of_images = 50\n",
    "\n",
    "for i in range(0, num_of_images):\n",
    "    plt.subplot(5, 10, i + 1)\n",
    "    plt.axis('off')\n",
    "    plt.imshow(train_set.data[i], cmap='gray_r')"
   ]
  },
  {
   "cell_type": "code",
   "execution_count": 11,
   "id": "9c6d33ce-555f-46da-8cb8-b317698ddd58",
   "metadata": {
    "execution": {
     "iopub.execute_input": "2022-05-11T13:50:28.082292Z",
     "iopub.status.busy": "2022-05-11T13:50:28.082148Z",
     "iopub.status.idle": "2022-05-11T13:50:28.086130Z",
     "shell.execute_reply": "2022-05-11T13:50:28.085700Z",
     "shell.execute_reply.started": "2022-05-11T13:50:28.082274Z"
    },
    "tags": []
   },
   "outputs": [],
   "source": [
    "train_loader = torch.utils.data.DataLoader(train_set,\n",
    "                                           batch_size=128,\n",
    "                                           shuffle=True,\n",
    "                                           num_workers=6)\n",
    "\n",
    "test_loader = torch.utils.data.DataLoader(test_set,\n",
    "                                          batch_size=128,\n",
    "                                          shuffle=False,\n",
    "                                          num_workers=6)"
   ]
  },
  {
   "cell_type": "code",
   "execution_count": 12,
   "id": "505b1d6c-c344-413e-bd8b-285906c4074d",
   "metadata": {
    "execution": {
     "iopub.execute_input": "2022-05-11T13:50:28.086922Z",
     "iopub.status.busy": "2022-05-11T13:50:28.086783Z",
     "iopub.status.idle": "2022-05-11T13:50:28.308647Z",
     "shell.execute_reply": "2022-05-11T13:50:28.307880Z",
     "shell.execute_reply.started": "2022-05-11T13:50:28.086906Z"
    },
    "tags": []
   },
   "outputs": [
    {
     "name": "stdout",
     "output_type": "stream",
     "text": [
      "torch.Size([128, 1, 28, 28])\n",
      "torch.Size([128])\n"
     ]
    }
   ],
   "source": [
    "data_iter = iter(train_loader)\n",
    "\n",
    "images, labels = data_iter.next()\n",
    "\n",
    "print(images.shape)\n",
    "print(labels.shape)"
   ]
  },
  {
   "cell_type": "code",
   "execution_count": 13,
   "id": "0bc5dc7f-4567-4851-bca9-f4092e1e7b8d",
   "metadata": {
    "execution": {
     "iopub.execute_input": "2022-05-11T13:50:28.311115Z",
     "iopub.status.busy": "2022-05-11T13:50:28.310801Z",
     "iopub.status.idle": "2022-05-11T13:50:28.358869Z",
     "shell.execute_reply": "2022-05-11T13:50:28.358441Z",
     "shell.execute_reply.started": "2022-05-11T13:50:28.311079Z"
    },
    "tags": []
   },
   "outputs": [
    {
     "data": {
      "text/plain": [
       "tensor(1)"
      ]
     },
     "execution_count": 13,
     "metadata": {},
     "output_type": "execute_result"
    }
   ],
   "source": [
    "labels[0]"
   ]
  },
  {
   "cell_type": "code",
   "execution_count": 14,
   "id": "c9bb8e50-be9d-44d4-b76b-bbc6ca449251",
   "metadata": {
    "execution": {
     "iopub.execute_input": "2022-05-11T13:50:28.887120Z",
     "iopub.status.busy": "2022-05-11T13:50:28.886844Z",
     "iopub.status.idle": "2022-05-11T13:50:29.121840Z",
     "shell.execute_reply": "2022-05-11T13:50:29.121362Z",
     "shell.execute_reply.started": "2022-05-11T13:50:28.887100Z"
    },
    "tags": []
   },
   "outputs": [
    {
     "data": {
      "image/png": "[encoded data removed]",
      "text/plain": [
       "<Figure size 432x288 with 1 Axes>"
      ]
     },
     "metadata": {
      "needs_background": "light"
     },
     "output_type": "display_data"
    }
   ],
   "source": [
    "def imshow_v2(img):\n",
    "    img = img / 2 + 0.5  # unnormalize\n",
    "    plt.imshow(np.transpose(img.numpy(), (1, 2, 0)))\n",
    "    plt.show()\n",
    "\n",
    "\n",
    "imshow_v2(torchvision.utils.make_grid(images, nrow=12))"
   ]
  },
  {
   "cell_type": "code",
   "execution_count": 15,
   "id": "1c3cf6ff-e5f2-400a-9676-0b45c788defb",
   "metadata": {
    "execution": {
     "iopub.execute_input": "2022-05-11T13:50:29.333869Z",
     "iopub.status.busy": "2022-05-11T13:50:29.333567Z",
     "iopub.status.idle": "2022-05-11T13:50:29.336944Z",
     "shell.execute_reply": "2022-05-11T13:50:29.336511Z",
     "shell.execute_reply.started": "2022-05-11T13:50:29.333847Z"
    }
   },
   "outputs": [],
   "source": [
    "a = torch.randn((16, 3,5,5))"
   ]
  },
  {
   "cell_type": "code",
   "execution_count": 16,
   "id": "7992bc35-3721-4fc7-8026-eea2a344fa61",
   "metadata": {
    "execution": {
     "iopub.execute_input": "2022-05-11T13:50:29.726051Z",
     "iopub.status.busy": "2022-05-11T13:50:29.725777Z",
     "iopub.status.idle": "2022-05-11T13:50:29.730017Z",
     "shell.execute_reply": "2022-05-11T13:50:29.729573Z",
     "shell.execute_reply.started": "2022-05-11T13:50:29.726030Z"
    }
   },
   "outputs": [
    {
     "data": {
      "text/plain": [
       "torch.Size([16, 75])"
      ]
     },
     "execution_count": 16,
     "metadata": {},
     "output_type": "execute_result"
    }
   ],
   "source": [
    "torch.flatten(a, start_dim=1).shape"
   ]
  },
  {
   "cell_type": "code",
   "execution_count": 17,
   "id": "14560e64-a140-419c-bc21-ad11afd56f7d",
   "metadata": {
    "execution": {
     "iopub.execute_input": "2022-05-11T13:50:30.111244Z",
     "iopub.status.busy": "2022-05-11T13:50:30.110979Z",
     "iopub.status.idle": "2022-05-11T13:50:30.114086Z",
     "shell.execute_reply": "2022-05-11T13:50:30.113631Z",
     "shell.execute_reply.started": "2022-05-11T13:50:30.111222Z"
    },
    "tags": []
   },
   "outputs": [],
   "source": [
    "import torch.nn as nn\n",
    "import torch.nn.functional as F"
   ]
  },
  {
   "cell_type": "code",
   "execution_count": 18,
   "id": "0523baaf-4a5f-4ce8-99a1-ef039ec61b17",
   "metadata": {
    "execution": {
     "iopub.execute_input": "2022-05-11T13:50:30.457226Z",
     "iopub.status.busy": "2022-05-11T13:50:30.456714Z",
     "iopub.status.idle": "2022-05-11T13:50:30.462495Z",
     "shell.execute_reply": "2022-05-11T13:50:30.462049Z",
     "shell.execute_reply.started": "2022-05-11T13:50:30.457204Z"
    },
    "tags": []
   },
   "outputs": [],
   "source": [
    "class Net(nn.Module):\n",
    "    def __init__(self):\n",
    "        super(Net, self).__init__()\n",
    "\n",
    "        self.conv1 = nn.Conv2d(in_channels=1, out_channels=32, kernel_size=3, stride=1, padding=0)\n",
    "        self.conv2 = nn.Conv2d(in_channels=32, out_channels=64, kernel_size=3, stride=1, padding=0)\n",
    "        self.pool = nn.MaxPool2d(kernel_size=2, stride=2)\n",
    "        self.fc1 = nn.Linear(64 * 12 * 12, 128)\n",
    "        self.fc2 = nn.Linear(128, 10)\n",
    "\n",
    "    def forward(self, x):\n",
    "        x = F.relu(self.conv1(x))\n",
    "        x = F.relu(self.conv2(x))\n",
    "        x = self.pool(x)\n",
    "\n",
    "        x = torch.flatten(x, start_dim=1)\n",
    "        x = F.relu(self.fc1(x))\n",
    "        x = self.fc2(x)\n",
    "\n",
    "        return x"
   ]
  },
  {
   "cell_type": "code",
   "execution_count": 19,
   "id": "e3577d34-c75a-42a0-ab9a-7d9907093c53",
   "metadata": {
    "execution": {
     "iopub.execute_input": "2022-05-11T13:50:30.995029Z",
     "iopub.status.busy": "2022-05-11T13:50:30.994747Z",
     "iopub.status.idle": "2022-05-11T13:50:35.411496Z",
     "shell.execute_reply": "2022-05-11T13:50:35.411047Z",
     "shell.execute_reply.started": "2022-05-11T13:50:30.995006Z"
    },
    "tags": []
   },
   "outputs": [
    {
     "data": {
      "text/plain": [
       "Net(\n",
       "  (conv1): Conv2d(1, 32, kernel_size=(3, 3), stride=(1, 1))\n",
       "  (conv2): Conv2d(32, 64, kernel_size=(3, 3), stride=(1, 1))\n",
       "  (pool): MaxPool2d(kernel_size=2, stride=2, padding=0, dilation=1, ceil_mode=False)\n",
       "  (fc1): Linear(in_features=9216, out_features=128, bias=True)\n",
       "  (fc2): Linear(in_features=128, out_features=10, bias=True)\n",
       ")"
      ]
     },
     "execution_count": 19,
     "metadata": {},
     "output_type": "execute_result"
    }
   ],
   "source": [
    "net = Net().to(device)\n",
    "net"
   ]
  },
  {
   "cell_type": "code",
   "execution_count": 20,
   "id": "b313bd7a-c2fd-41da-81d7-c42b49b7c7b5",
   "metadata": {
    "execution": {
     "iopub.execute_input": "2022-05-11T13:50:35.412817Z",
     "iopub.status.busy": "2022-05-11T13:50:35.412386Z",
     "iopub.status.idle": "2022-05-11T13:50:35.415942Z",
     "shell.execute_reply": "2022-05-11T13:50:35.415534Z",
     "shell.execute_reply.started": "2022-05-11T13:50:35.412798Z"
    },
    "tags": []
   },
   "outputs": [],
   "source": [
    "import torch.optim as optim\n",
    "\n",
    "criterion = nn.CrossEntropyLoss()\n",
    "\n",
    "optimizer = optim.SGD(net.parameters(), lr=0.001, momentum=0.9)"
   ]
  },
  {
   "cell_type": "code",
   "execution_count": 21,
   "id": "8043de95-e100-4af1-970a-28350f329edf",
   "metadata": {
    "execution": {
     "iopub.execute_input": "2022-05-11T13:51:02.319926Z",
     "iopub.status.busy": "2022-05-11T13:51:02.319655Z",
     "iopub.status.idle": "2022-05-11T13:52:20.276458Z",
     "shell.execute_reply": "2022-05-11T13:52:20.275954Z",
     "shell.execute_reply.started": "2022-05-11T13:51:02.319905Z"
    },
    "tags": []
   },
   "outputs": [
    {
     "data": {
      "application/vnd.jupyter.widget-view+json": {
       "model_id": "8a5e99419c164d04be918adb21e2db43",
       "version_major": 2,
       "version_minor": 0
      },
      "text/plain": [
       "Train Epoch 0:   0%|          | 0/469 [00:00<?, ?batch/s]"
      ]
     },
     "metadata": {},
     "output_type": "display_data"
    },
    {
     "name": "stdout",
     "output_type": "stream",
     "text": [
      "loss_avg=2.2743527841567994, val_accuracy=50.66\n",
      "loss_avg=2.1520144271850588, val_accuracy=74.36\n",
      "loss_avg=1.8271428084373473, val_accuracy=79.26\n",
      "loss_avg=1.154320046901703, val_accuracy=83.61\n",
      "loss_avg=0.6525044226646424, val_accuracy=86.88\n",
      "loss_avg=0.5051304495334625, val_accuracy=87.99\n",
      "loss_avg=0.4137884539365768, val_accuracy=89.27\n",
      "loss_avg=0.4002853861451149, val_accuracy=89.97\n",
      "loss_avg=0.36205165326595307, val_accuracy=90.53\n"
     ]
    },
    {
     "data": {
      "application/vnd.jupyter.widget-view+json": {
       "model_id": "77125459a40d4710874463920d0c1f8c",
       "version_major": 2,
       "version_minor": 0
      },
      "text/plain": [
       "Train Epoch 1:   0%|          | 0/469 [00:00<?, ?batch/s]"
      ]
     },
     "metadata": {},
     "output_type": "display_data"
    },
    {
     "name": "stdout",
     "output_type": "stream",
     "text": [
      "loss_avg=0.3384536802768707, val_accuracy=90.94\n",
      "loss_avg=0.32783146113157274, val_accuracy=91.61\n",
      "loss_avg=0.32128532975912094, val_accuracy=91.62\n",
      "loss_avg=0.28739325344562533, val_accuracy=92.0\n",
      "loss_avg=0.29781522750854494, val_accuracy=92.19\n",
      "loss_avg=0.2810025981068611, val_accuracy=92.7\n",
      "loss_avg=0.2794251656532288, val_accuracy=92.69\n",
      "loss_avg=0.26872906982898714, val_accuracy=92.92\n",
      "loss_avg=0.2592581829428673, val_accuracy=93.38\n"
     ]
    },
    {
     "data": {
      "application/vnd.jupyter.widget-view+json": {
       "model_id": "f9a9c73e1d534323ab955afeb8ec0a5b",
       "version_major": 2,
       "version_minor": 0
      },
      "text/plain": [
       "Train Epoch 2:   0%|          | 0/469 [00:00<?, ?batch/s]"
      ]
     },
     "metadata": {},
     "output_type": "display_data"
    },
    {
     "name": "stdout",
     "output_type": "stream",
     "text": [
      "loss_avg=0.2414967228472233, val_accuracy=93.57\n",
      "loss_avg=0.2488989405333996, val_accuracy=93.54\n",
      "loss_avg=0.23641891092061995, val_accuracy=93.73\n",
      "loss_avg=0.22385830119252204, val_accuracy=94.16\n",
      "loss_avg=0.22481638222932815, val_accuracy=93.74\n",
      "loss_avg=0.21171648770570756, val_accuracy=94.17\n",
      "loss_avg=0.19636078119277955, val_accuracy=94.63\n",
      "loss_avg=0.1938948990404606, val_accuracy=94.73\n",
      "loss_avg=0.1977784365415573, val_accuracy=94.91\n"
     ]
    },
    {
     "data": {
      "application/vnd.jupyter.widget-view+json": {
       "model_id": "f8a5d9746c2840e19cccdd6e39cfde4c",
       "version_major": 2,
       "version_minor": 0
      },
      "text/plain": [
       "Train Epoch 3:   0%|          | 0/469 [00:00<?, ?batch/s]"
      ]
     },
     "metadata": {},
     "output_type": "display_data"
    },
    {
     "name": "stdout",
     "output_type": "stream",
     "text": [
      "loss_avg=0.1996008935570717, val_accuracy=94.98\n",
      "loss_avg=0.1711990888416767, val_accuracy=95.18\n",
      "loss_avg=0.16736992359161376, val_accuracy=95.45\n",
      "loss_avg=0.17271887883543968, val_accuracy=95.57\n",
      "loss_avg=0.15978387579321862, val_accuracy=95.6\n",
      "loss_avg=0.17483195707201957, val_accuracy=95.66\n",
      "loss_avg=0.15401115506887436, val_accuracy=95.73\n",
      "loss_avg=0.15439598724246026, val_accuracy=96.02\n",
      "loss_avg=0.14580019190907478, val_accuracy=96.09\n"
     ]
    },
    {
     "data": {
      "application/vnd.jupyter.widget-view+json": {
       "model_id": "c69a5f19540645c590ed07b0d6215bf5",
       "version_major": 2,
       "version_minor": 0
      },
      "text/plain": [
       "Train Epoch 4:   0%|          | 0/469 [00:00<?, ?batch/s]"
      ]
     },
     "metadata": {},
     "output_type": "display_data"
    },
    {
     "name": "stdout",
     "output_type": "stream",
     "text": [
      "loss_avg=0.13577219806611537, val_accuracy=95.98\n",
      "loss_avg=0.15016355663537978, val_accuracy=96.38\n",
      "loss_avg=0.13625141069293023, val_accuracy=96.29\n",
      "loss_avg=0.13472252130508422, val_accuracy=96.54\n",
      "loss_avg=0.13124738402664662, val_accuracy=96.7\n",
      "loss_avg=0.1302465832978487, val_accuracy=96.76\n",
      "loss_avg=0.11979300580918789, val_accuracy=96.94\n",
      "loss_avg=0.1130151765793562, val_accuracy=96.88\n",
      "loss_avg=0.11884739816188812, val_accuracy=97.02\n"
     ]
    },
    {
     "data": {
      "application/vnd.jupyter.widget-view+json": {
       "model_id": "51a39111653f45549e9dc3f01d7615d0",
       "version_major": 2,
       "version_minor": 0
      },
      "text/plain": [
       "Train Epoch 5:   0%|          | 0/469 [00:00<?, ?batch/s]"
      ]
     },
     "metadata": {},
     "output_type": "display_data"
    },
    {
     "name": "stdout",
     "output_type": "stream",
     "text": [
      "loss_avg=0.11685933761298656, val_accuracy=96.94\n",
      "loss_avg=0.12347137004137039, val_accuracy=97.08\n",
      "loss_avg=0.10748391166329384, val_accuracy=97.02\n",
      "loss_avg=0.10757089085876942, val_accuracy=97.03\n",
      "loss_avg=0.10141561642289161, val_accuracy=97.2\n",
      "loss_avg=0.10773340478539467, val_accuracy=97.33\n",
      "loss_avg=0.09844796970486641, val_accuracy=97.24\n",
      "loss_avg=0.09492119438946248, val_accuracy=97.33\n",
      "loss_avg=0.10291250236332417, val_accuracy=97.45\n"
     ]
    },
    {
     "data": {
      "application/vnd.jupyter.widget-view+json": {
       "model_id": "68166d89656e40a19a1e97d8a7cd1816",
       "version_major": 2,
       "version_minor": 0
      },
      "text/plain": [
       "Train Epoch 6:   0%|          | 0/469 [00:00<?, ?batch/s]"
      ]
     },
     "metadata": {},
     "output_type": "display_data"
    },
    {
     "name": "stdout",
     "output_type": "stream",
     "text": [
      "loss_avg=0.08749545749276877, val_accuracy=97.38\n",
      "loss_avg=0.09842630192637443, val_accuracy=97.38\n",
      "loss_avg=0.09108367390930652, val_accuracy=97.66\n",
      "loss_avg=0.09633432120084763, val_accuracy=97.62\n",
      "loss_avg=0.09210812881588935, val_accuracy=97.51\n",
      "loss_avg=0.08802640374749898, val_accuracy=97.65\n",
      "loss_avg=0.08860155899077654, val_accuracy=97.6\n",
      "loss_avg=0.07610176242887974, val_accuracy=97.61\n",
      "loss_avg=0.08970411259680987, val_accuracy=97.67\n"
     ]
    },
    {
     "data": {
      "application/vnd.jupyter.widget-view+json": {
       "model_id": "7d2ba5e1842c4c688ec3e7181c9f9d87",
       "version_major": 2,
       "version_minor": 0
      },
      "text/plain": [
       "Train Epoch 7:   0%|          | 0/469 [00:00<?, ?batch/s]"
      ]
     },
     "metadata": {},
     "output_type": "display_data"
    },
    {
     "name": "stdout",
     "output_type": "stream",
     "text": [
      "loss_avg=0.07966805033385754, val_accuracy=97.72\n",
      "loss_avg=0.08082032110542059, val_accuracy=97.66\n",
      "loss_avg=0.08200741562992335, val_accuracy=97.86\n",
      "loss_avg=0.076673650033772, val_accuracy=97.93\n",
      "loss_avg=0.08740463461726904, val_accuracy=97.92\n",
      "loss_avg=0.07774998508393764, val_accuracy=97.78\n",
      "loss_avg=0.06965814657509327, val_accuracy=97.74\n",
      "loss_avg=0.07631882093846798, val_accuracy=98.02\n",
      "loss_avg=0.07026057042181492, val_accuracy=98.01\n"
     ]
    },
    {
     "data": {
      "application/vnd.jupyter.widget-view+json": {
       "model_id": "48527a02cd584e588b9c9ac9f637d2cb",
       "version_major": 2,
       "version_minor": 0
      },
      "text/plain": [
       "Train Epoch 8:   0%|          | 0/469 [00:00<?, ?batch/s]"
      ]
     },
     "metadata": {},
     "output_type": "display_data"
    },
    {
     "name": "stdout",
     "output_type": "stream",
     "text": [
      "loss_avg=0.07357541786506772, val_accuracy=97.92\n",
      "loss_avg=0.07908281087875366, val_accuracy=97.94\n",
      "loss_avg=0.07145348278805613, val_accuracy=98.05\n",
      "loss_avg=0.07713537614792586, val_accuracy=97.99\n",
      "loss_avg=0.06700243372470141, val_accuracy=98.0\n",
      "loss_avg=0.0637232255935669, val_accuracy=98.08\n",
      "loss_avg=0.06644267924129962, val_accuracy=98.09\n",
      "loss_avg=0.0627828174829483, val_accuracy=98.15\n",
      "loss_avg=0.06872482765465975, val_accuracy=98.11\n"
     ]
    },
    {
     "data": {
      "application/vnd.jupyter.widget-view+json": {
       "model_id": "31c0667b5c5a4653a04f32a19a8b54b4",
       "version_major": 2,
       "version_minor": 0
      },
      "text/plain": [
       "Train Epoch 9:   0%|          | 0/469 [00:00<?, ?batch/s]"
      ]
     },
     "metadata": {},
     "output_type": "display_data"
    },
    {
     "name": "stdout",
     "output_type": "stream",
     "text": [
      "loss_avg=0.06052642149850726, val_accuracy=98.05\n",
      "loss_avg=0.059780564699321984, val_accuracy=98.13\n",
      "loss_avg=0.06319705110043287, val_accuracy=98.08\n",
      "loss_avg=0.06382170472294092, val_accuracy=98.09\n",
      "loss_avg=0.05972752247005701, val_accuracy=98.11\n",
      "loss_avg=0.07306540381163358, val_accuracy=98.04\n",
      "loss_avg=0.06527586426585913, val_accuracy=98.24\n",
      "loss_avg=0.06841764189302921, val_accuracy=98.16\n",
      "loss_avg=0.06035528603941202, val_accuracy=98.28\n"
     ]
    }
   ],
   "source": [
    "from tqdm.autonotebook import tqdm\n",
    "\n",
    "epochs = 10\n",
    "\n",
    "epoch_log = []\n",
    "loss_log = []\n",
    "accuracy_log = []\n",
    "\n",
    "for epoch in range(epochs):\n",
    "    with tqdm(train_loader, desc=f\"Train Epoch {epoch}\", unit=\"batch\") as train_epoch:\n",
    "        batch_id = 0\n",
    "        running_loss = 0.0\n",
    "\n",
    "        for inputs, labels in train_epoch:\n",
    "            net.train()\n",
    "            batch_id += 1\n",
    "\n",
    "            inputs = inputs.to(device)\n",
    "            labels = labels.to(device)\n",
    "\n",
    "            optimizer.zero_grad()\n",
    "\n",
    "            outputs = net(inputs)\n",
    "            loss = criterion(outputs, labels)\n",
    "            loss.backward()\n",
    "            optimizer.step()\n",
    "\n",
    "            running_loss += loss.item()\n",
    "\n",
    "            if batch_id % 50 == 0:\n",
    "\n",
    "                avg_train_loss_from_last_50_samples = running_loss / 50\n",
    "                running_loss = 0.0\n",
    "\n",
    "                correct_count = 0\n",
    "                total = 0\n",
    "                net.eval()\n",
    "\n",
    "                with torch.no_grad():\n",
    "                    for inputs, labels in test_loader:\n",
    "\n",
    "                        inputs = inputs.to(device)\n",
    "                        labels = labels.to(device)\n",
    "\n",
    "                        outputs = net(inputs)\n",
    "\n",
    "                        predicted = torch.argmax(outputs, dim=1)\n",
    "                        total += labels.shape[0]\n",
    "                        correct_count += (predicted == labels).sum().item()\n",
    "\n",
    "                    val_accuracy = 100.0 * correct_count / total\n",
    "                    print(f\"loss_avg={avg_train_loss_from_last_50_samples}, val_accuracy={val_accuracy}\")\n",
    "                    train_epoch.set_postfix(loss_avg=avg_train_loss_from_last_50_samples, val_accuracy=val_accuracy)\n",
    "\n",
    "        epoch_log.append(epoch)\n",
    "        loss_log.append(avg_train_loss_from_last_50_samples)\n",
    "        accuracy_log.append(val_accuracy)"
   ]
  },
  {
   "cell_type": "code",
   "execution_count": 22,
   "id": "e219c3b3-eb6e-43e6-befa-8493d474eb78",
   "metadata": {
    "execution": {
     "iopub.execute_input": "2022-05-11T13:53:54.023263Z",
     "iopub.status.busy": "2022-05-11T13:53:54.022948Z",
     "iopub.status.idle": "2022-05-11T13:53:54.107073Z",
     "shell.execute_reply": "2022-05-11T13:53:54.106566Z",
     "shell.execute_reply.started": "2022-05-11T13:53:54.023235Z"
    },
    "tags": []
   },
   "outputs": [],
   "source": [
    "torch.save(net.state_dict(), 'model.pth')"
   ]
  },
  {
   "cell_type": "code",
   "execution_count": 23,
   "id": "dcfec803-f900-4e0f-829f-98b4f736d828",
   "metadata": {
    "execution": {
     "iopub.execute_input": "2022-05-11T13:53:54.424977Z",
     "iopub.status.busy": "2022-05-11T13:53:54.424447Z",
     "iopub.status.idle": "2022-05-11T13:53:54.487866Z",
     "shell.execute_reply": "2022-05-11T13:53:54.487448Z",
     "shell.execute_reply.started": "2022-05-11T13:53:54.424954Z"
    },
    "tags": []
   },
   "outputs": [
    {
     "data": {
      "text/plain": [
       "<All keys matched successfully>"
      ]
     },
     "execution_count": 23,
     "metadata": {},
     "output_type": "execute_result"
    }
   ],
   "source": [
    "trained_model = Net().to(device)\n",
    "trained_model.load_state_dict(torch.load('model.pth'))"
   ]
  },
  {
   "cell_type": "code",
   "execution_count": 24,
   "id": "90847f89-89de-4cd9-8ac1-499cdd7f1e31",
   "metadata": {
    "execution": {
     "iopub.execute_input": "2022-05-11T13:53:56.609300Z",
     "iopub.status.busy": "2022-05-11T13:53:56.608719Z",
     "iopub.status.idle": "2022-05-11T13:53:56.975394Z",
     "shell.execute_reply": "2022-05-11T13:53:56.974825Z",
     "shell.execute_reply.started": "2022-05-11T13:53:56.609277Z"
    },
    "tags": []
   },
   "outputs": [
    {
     "name": "stdout",
     "output_type": "stream",
     "text": [
      "images shape : torch.Size([128, 1, 28, 28])\n",
      "labels shape : torch.Size([128])\n",
      "outputs shape : torch.Size([128, 10])\n",
      "predictions shape : torch.Size([128])\n"
     ]
    },
    {
     "data": {
      "image/png": "[encoded data removed]",
      "text/plain": [
       "<Figure size 432x432 with 1 Axes>"
      ]
     },
     "metadata": {
      "needs_background": "light"
     },
     "output_type": "display_data"
    },
    {
     "name": "stdout",
     "output_type": "stream",
     "text": [
      "Label : 7\n",
      "Predicted : 7\n"
     ]
    }
   ],
   "source": [
    "test_iter = iter(test_loader)\n",
    "\n",
    "images, labels = test_iter.next()\n",
    "\n",
    "\n",
    "print(f\"images shape : {images.shape}\")\n",
    "print(f\"labels shape : {labels.shape}\")\n",
    "\n",
    "images = images.to(device)\n",
    "labels = labels.to(device)\n",
    "\n",
    "outputs = trained_model(images)\n",
    "print(f\"outputs shape : {outputs.shape}\")\n",
    "\n",
    "_, predictions = torch.max(outputs, 1)\n",
    "print(f\"predictions shape : {predictions.shape}\")\n",
    "\n",
    "imshow(f\"Label\", images[0].cpu().squeeze())\n",
    "print(f\"Label : {labels[0].cpu()}\")\n",
    "print(f\"Predicted : {predictions[0]}\")"
   ]
  },
  {
   "cell_type": "code",
   "execution_count": 25,
   "id": "8490171a-e615-44d7-ac1d-b686b46a9bad",
   "metadata": {
    "execution": {
     "iopub.execute_input": "2022-05-11T13:53:59.563277Z",
     "iopub.status.busy": "2022-05-11T13:53:59.562929Z",
     "iopub.status.idle": "2022-05-11T13:53:59.724421Z",
     "shell.execute_reply": "2022-05-11T13:53:59.723961Z",
     "shell.execute_reply.started": "2022-05-11T13:53:59.563235Z"
    },
    "tags": []
   },
   "outputs": [
    {
     "data": {
      "image/png": "[encoded data removed]",
      "text/plain": [
       "<Figure size 432x288 with 2 Axes>"
      ]
     },
     "metadata": {
      "needs_background": "light"
     },
     "output_type": "display_data"
    }
   ],
   "source": [
    "fig, ax1 = plt.subplots()\n",
    "\n",
    "plt.title('Accuracy & Loss vs Epoch')\n",
    "plt.xticks(rotation=45)\n",
    "\n",
    "ax2 = ax1.twinx()\n",
    "\n",
    "ax1.plot(epoch_log, loss_log, 'g-')\n",
    "ax2.plot(epoch_log, accuracy_log, 'b-')\n",
    "\n",
    "ax1.set_xlabel('Epochs')\n",
    "ax1.set_ylabel('Loss', color='g')\n",
    "ax2.set_ylabel('Test Accuracy', color='b')\n",
    "\n",
    "plt.show()"
   ]
  },
  {
   "cell_type": "code",
   "execution_count": 27,
   "id": "8f6a9aad-29c6-4867-9a78-154aa07ac17a",
   "metadata": {
    "execution": {
     "iopub.execute_input": "2022-05-11T13:55:51.046030Z",
     "iopub.status.busy": "2022-05-11T13:55:51.045711Z",
     "iopub.status.idle": "2022-05-11T13:55:51.539876Z",
     "shell.execute_reply": "2022-05-11T13:55:51.539319Z",
     "shell.execute_reply.started": "2022-05-11T13:55:51.046002Z"
    },
    "tags": []
   },
   "outputs": [
    {
     "name": "stdout",
     "output_type": "stream",
     "text": [
      "Test Accuracy : 98.1\n"
     ]
    }
   ],
   "source": [
    "correct = 0\n",
    "total = 0\n",
    "\n",
    "trained_model.eval()\n",
    "\n",
    "with torch.no_grad():\n",
    "    for inputs, labels in test_loader:\n",
    "        inputs = inputs.to(device)\n",
    "        labels = labels.to(device)\n",
    "\n",
    "        outputs = trained_model(inputs)\n",
    "\n",
    "        predicted = torch.argmax(outputs, dim=1)\n",
    "        total += labels.shape[0]\n",
    "        correct += (predicted == labels).sum().item()\n",
    "\n",
    "accuracy = 100 * correct / total\n",
    "print(f\"Test Accuracy : {accuracy}\")"
   ]
  },
  {
   "cell_type": "code",
   "execution_count": 49,
   "id": "06a182b3-6982-4f19-92c7-cede4f036dc2",
   "metadata": {
    "execution": {
     "iopub.execute_input": "2022-05-11T14:08:38.616191Z",
     "iopub.status.busy": "2022-05-11T14:08:38.615888Z",
     "iopub.status.idle": "2022-05-11T14:08:40.569610Z",
     "shell.execute_reply": "2022-05-11T14:08:40.569065Z",
     "shell.execute_reply.started": "2022-05-11T14:08:38.616169Z"
    },
    "tags": []
   },
   "outputs": [
    {
     "name": "stdout",
     "output_type": "stream",
     "text": [
      "Actual label : 6, Predicted label : 0\n"
     ]
    },
    {
     "data": {
      "image/png": "[encoded data removed]",
      "text/plain": [
       "<Figure size 216x216 with 1 Axes>"
      ]
     },
     "metadata": {
      "needs_background": "light"
     },
     "output_type": "display_data"
    },
    {
     "name": "stdout",
     "output_type": "stream",
     "text": [
      "Actual label : 2, Predicted label : 7\n"
     ]
    },
    {
     "data": {
      "image/png": "[encoded data removed]",
      "text/plain": [
       "<Figure size 216x216 with 1 Axes>"
      ]
     },
     "metadata": {
      "needs_background": "light"
     },
     "output_type": "display_data"
    },
    {
     "name": "stdout",
     "output_type": "stream",
     "text": [
      "Actual label : 5, Predicted label : 3\n"
     ]
    },
    {
     "data": {
      "image/png": "[encoded data removed]",
      "text/plain": [
       "<Figure size 216x216 with 1 Axes>"
      ]
     },
     "metadata": {
      "needs_background": "light"
     },
     "output_type": "display_data"
    },
    {
     "name": "stdout",
     "output_type": "stream",
     "text": [
      "Actual label : 6, Predicted label : 0\n"
     ]
    },
    {
     "data": {
      "image/png": "[encoded data removed]",
      "text/plain": [
       "<Figure size 216x216 with 1 Axes>"
      ]
     },
     "metadata": {
      "needs_background": "light"
     },
     "output_type": "display_data"
    },
    {
     "name": "stdout",
     "output_type": "stream",
     "text": [
      "Actual label : 3, Predicted label : 5\n"
     ]
    },
    {
     "data": {
      "image/png": "[encoded data removed]",
      "text/plain": [
       "<Figure size 216x216 with 1 Axes>"
      ]
     },
     "metadata": {
      "needs_background": "light"
     },
     "output_type": "display_data"
    },
    {
     "name": "stdout",
     "output_type": "stream",
     "text": [
      "Actual label : 8, Predicted label : 2\n"
     ]
    },
    {
     "data": {
      "image/png": "[encoded data removed]",
      "text/plain": [
       "<Figure size 216x216 with 1 Axes>"
      ]
     },
     "metadata": {
      "needs_background": "light"
     },
     "output_type": "display_data"
    },
    {
     "name": "stdout",
     "output_type": "stream",
     "text": [
      "Actual label : 2, Predicted label : 8\n"
     ]
    },
    {
     "data": {
      "image/png": "[encoded data removed]",
      "text/plain": [
       "<Figure size 216x216 with 1 Axes>"
      ]
     },
     "metadata": {
      "needs_background": "light"
     },
     "output_type": "display_data"
    },
    {
     "name": "stdout",
     "output_type": "stream",
     "text": [
      "Actual label : 2, Predicted label : 1\n"
     ]
    },
    {
     "data": {
      "image/png": "[encoded data removed]",
      "text/plain": [
       "<Figure size 216x216 with 1 Axes>"
      ]
     },
     "metadata": {
      "needs_background": "light"
     },
     "output_type": "display_data"
    },
    {
     "name": "stdout",
     "output_type": "stream",
     "text": [
      "Actual label : 7, Predicted label : 3\n"
     ]
    },
    {
     "data": {
      "image/png": "[encoded data removed]",
      "text/plain": [
       "<Figure size 216x216 with 1 Axes>"
      ]
     },
     "metadata": {
      "needs_background": "light"
     },
     "output_type": "display_data"
    },
    {
     "name": "stdout",
     "output_type": "stream",
     "text": [
      "Actual label : 8, Predicted label : 4\n"
     ]
    },
    {
     "data": {
      "image/png": "[encoded data removed]",
      "text/plain": [
       "<Figure size 216x216 with 1 Axes>"
      ]
     },
     "metadata": {
      "needs_background": "light"
     },
     "output_type": "display_data"
    },
    {
     "name": "stdout",
     "output_type": "stream",
     "text": [
      "Actual label : 0, Predicted label : 5\n"
     ]
    },
    {
     "data": {
      "image/png": "[encoded data removed]",
      "text/plain": [
       "<Figure size 216x216 with 1 Axes>"
      ]
     },
     "metadata": {
      "needs_background": "light"
     },
     "output_type": "display_data"
    },
    {
     "name": "stdout",
     "output_type": "stream",
     "text": [
      "Actual label : 5, Predicted label : 8\n"
     ]
    },
    {
     "data": {
      "image/png": "[encoded data removed]",
      "text/plain": [
       "<Figure size 216x216 with 1 Axes>"
      ]
     },
     "metadata": {
      "needs_background": "light"
     },
     "output_type": "display_data"
    },
    {
     "name": "stdout",
     "output_type": "stream",
     "text": [
      "Actual label : 4, Predicted label : 9\n"
     ]
    },
    {
     "data": {
      "image/png": "[encoded data removed]",
      "text/plain": [
       "<Figure size 216x216 with 1 Axes>"
      ]
     },
     "metadata": {
      "needs_background": "light"
     },
     "output_type": "display_data"
    },
    {
     "name": "stdout",
     "output_type": "stream",
     "text": [
      "Actual label : 7, Predicted label : 9\n"
     ]
    },
    {
     "data": {
      "image/png": "[encoded data removed]",
      "text/plain": [
       "<Figure size 216x216 with 1 Axes>"
      ]
     },
     "metadata": {
      "needs_background": "light"
     },
     "output_type": "display_data"
    },
    {
     "name": "stdout",
     "output_type": "stream",
     "text": [
      "Actual label : 9, Predicted label : 7\n"
     ]
    },
    {
     "data": {
      "image/png": "[encoded data removed]",
      "text/plain": [
       "<Figure size 216x216 with 1 Axes>"
      ]
     },
     "metadata": {
      "needs_background": "light"
     },
     "output_type": "display_data"
    }
   ],
   "source": [
    "trained_model.eval()\n",
    "\n",
    "misclassified_count = 0\n",
    "\n",
    "with torch.no_grad():\n",
    "    for inputs, labels in test_loader:\n",
    "        inputs = inputs.to(device)\n",
    "        labels = labels.to(device)\n",
    "\n",
    "        outputs = trained_model(inputs)\n",
    "\n",
    "        labels_predictions = torch.argmax(outputs, dim=1)\n",
    "\n",
    "        for i in range(inputs.shape[0]):\n",
    "            label_prediction = labels_predictions[i].item()\n",
    "            label = labels[i].item()\n",
    "            if label != label_prediction and misclassified_count < 15:\n",
    "                misclassified_count += 1\n",
    "                print(f\"Actual label : {label}, Predicted label : {label_prediction}\")\n",
    "                imshow(\"\", inputs[i].squeeze(), size=3)"
   ]
  },
  {
   "cell_type": "code",
   "execution_count": 52,
   "id": "a9dc6b9d-9fe2-41e2-a0a5-c5ec1265818e",
   "metadata": {
    "execution": {
     "iopub.execute_input": "2022-05-11T14:17:22.664545Z",
     "iopub.status.busy": "2022-05-11T14:17:22.664233Z",
     "iopub.status.idle": "2022-05-11T14:17:23.185781Z",
     "shell.execute_reply": "2022-05-11T14:17:23.185229Z",
     "shell.execute_reply.started": "2022-05-11T14:17:22.664514Z"
    },
    "tags": []
   },
   "outputs": [
    {
     "name": "stdout",
     "output_type": "stream",
     "text": [
      "Confusion Matrix\n",
      "[[ 971    0    1    0    1    1    3    1    2    0]\n",
      " [   0 1126    2    1    0    1    4    0    1    0]\n",
      " [   2    7 1007    4    3    0    0    4    4    1]\n",
      " [   1    0    2  995    0    2    0    1    1    8]\n",
      " [   1    0    1    0  969    0    3    0    2    6]\n",
      " [   3    0    0    5    0  874    3    1    1    5]\n",
      " [   4    2    0    0    2    2  945    0    3    0]\n",
      " [   2    3   14    3    1    0    0  994    1   10]\n",
      " [   4    0    2    3    4    2    4    2  945    8]\n",
      " [   3    4    0    3    9    2    1    3    0  984]]\n"
     ]
    }
   ],
   "source": [
    "from sklearn.metrics import confusion_matrix\n",
    "\n",
    "labels_predictions_accum = torch.zeros(0, dtype=torch.long, device='cpu')\n",
    "labels_accum = torch.zeros(0, dtype=torch.long, device='cpu')\n",
    "\n",
    "trained_model.eval()\n",
    "\n",
    "with torch.no_grad():\n",
    "    for inputs, labels in test_loader:\n",
    "        inputs = inputs.to(device)\n",
    "        labels = labels.to(device)\n",
    "\n",
    "        outputs = trained_model(inputs)\n",
    "\n",
    "        labels_predictions = torch.argmax(outputs, dim=1)\n",
    "\n",
    "        labels_predictions_accum = torch.cat([labels_predictions_accum, labels_predictions.view(-1).cpu()])\n",
    "        labels_accum = torch.cat([labels_accum, labels.view(-1).cpu()])\n",
    "\n",
    "confusion_matrix = confusion_matrix(y_true=labels_accum.numpy(), y_pred=labels_predictions_accum.numpy())\n",
    "print(\"Confusion Matrix\")\n",
    "print(confusion_matrix)"
   ]
  },
  {
   "cell_type": "code",
   "execution_count": 53,
   "id": "82f7bfa3-2654-43e5-a11e-b61dedfb5b63",
   "metadata": {
    "execution": {
     "iopub.execute_input": "2022-05-11T14:19:22.490461Z",
     "iopub.status.busy": "2022-05-11T14:19:22.490179Z",
     "iopub.status.idle": "2022-05-11T14:19:22.494489Z",
     "shell.execute_reply": "2022-05-11T14:19:22.494059Z",
     "shell.execute_reply.started": "2022-05-11T14:19:22.490438Z"
    }
   },
   "outputs": [
    {
     "name": "stdout",
     "output_type": "stream",
     "text": [
      "Per-class accuracy\n",
      "Class : 0 Accuracy : 99.08163265306122\n",
      "Class : 1 Accuracy : 99.20704845814979\n",
      "Class : 2 Accuracy : 97.57751937984496\n",
      "Class : 3 Accuracy : 98.51485148514851\n",
      "Class : 4 Accuracy : 98.67617107942974\n",
      "Class : 5 Accuracy : 97.98206278026906\n",
      "Class : 6 Accuracy : 98.64300626304802\n",
      "Class : 7 Accuracy : 96.69260700389106\n",
      "Class : 8 Accuracy : 97.02258726899385\n",
      "Class : 9 Accuracy : 97.52229930624381\n"
     ]
    }
   ],
   "source": [
    "print(\"Per-class accuracy\")\n",
    "\n",
    "classes_accuracies = 100 * confusion_matrix.diagonal() / confusion_matrix.sum(axis=1)\n",
    "\n",
    "for i, class_accuracy in enumerate(classes_accuracies):\n",
    "    print(f\"Class : {i} Accuracy : {class_accuracy}\")"
   ]
  },
  {
   "cell_type": "code",
   "execution_count": 55,
   "id": "99831670-a31b-4b9f-92cc-038366e6b5ee",
   "metadata": {
    "execution": {
     "iopub.execute_input": "2022-05-11T14:20:28.848699Z",
     "iopub.status.busy": "2022-05-11T14:20:28.848129Z",
     "iopub.status.idle": "2022-05-11T14:20:28.874897Z",
     "shell.execute_reply": "2022-05-11T14:20:28.874418Z",
     "shell.execute_reply.started": "2022-05-11T14:20:28.848676Z"
    },
    "tags": []
   },
   "outputs": [
    {
     "name": "stdout",
     "output_type": "stream",
     "text": [
      "              precision    recall  f1-score   support\n",
      "\n",
      "           0       0.98      0.99      0.99       980\n",
      "           1       0.99      0.99      0.99      1135\n",
      "           2       0.98      0.98      0.98      1032\n",
      "           3       0.98      0.99      0.98      1010\n",
      "           4       0.98      0.99      0.98       982\n",
      "           5       0.99      0.98      0.98       892\n",
      "           6       0.98      0.99      0.98       958\n",
      "           7       0.99      0.97      0.98      1028\n",
      "           8       0.98      0.97      0.98       974\n",
      "           9       0.96      0.98      0.97      1009\n",
      "\n",
      "    accuracy                           0.98     10000\n",
      "   macro avg       0.98      0.98      0.98     10000\n",
      "weighted avg       0.98      0.98      0.98     10000\n",
      "\n"
     ]
    }
   ],
   "source": [
    "from sklearn.metrics import classification_report\n",
    "\n",
    "print(classification_report(y_true=labels_accum.numpy(), y_pred=labels_predictions_accum.numpy()))"
   ]
  }
 ],
 "metadata": {
  "kernelspec": {
   "display_name": "Python 3 (ipykernel)",
   "language": "python",
   "name": "python3"
  },
  "language_info": {
   "codemirror_mode": {
    "name": "ipython",
    "version": 3
   },
   "file_extension": ".py",
   "mimetype": "text/x-python",
   "name": "python",
   "nbconvert_exporter": "python",
   "pygments_lexer": "ipython3",
   "version": "3.9.12"
  }
 },
 "nbformat": 4,
 "nbformat_minor": 5
}
